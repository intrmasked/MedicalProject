{
 "cells": [
  {
   "cell_type": "code",
   "execution_count": 1,
   "metadata": {},
   "outputs": [],
   "source": [
    "\n",
    "\n",
    "#importing the libraries and datasets that are required for this task \n",
    "import numpy as np\n",
    "import csv as csv\n",
    "import pandas as pd\n",
    "\n",
    "\n",
    "\n",
    "diseases  = pd.read_csv('./DataSets/full_dataset.csv')\n",
    "\n",
    "\n",
    "\n"
   ]
  },
  {
   "cell_type": "markdown",
   "metadata": {},
   "source": []
  },
  {
   "cell_type": "markdown",
   "metadata": {},
   "source": [
    "The cells underneath are used to check if the imports are proper and we use .describe to check the data and how it looks in rows and coloumn format"
   ]
  },
  {
   "cell_type": "code",
   "execution_count": 2,
   "metadata": {},
   "outputs": [
    {
     "name": "stdout",
     "output_type": "stream",
     "text": [
      "diseases data\n"
     ]
    }
   ],
   "source": [
    "print(\"diseases data\")\n"
   ]
  },
  {
   "cell_type": "code",
   "execution_count": null,
   "metadata": {},
   "outputs": [],
   "source": []
  },
  {
   "cell_type": "code",
   "execution_count": null,
   "metadata": {},
   "outputs": [],
   "source": []
  },
  {
   "cell_type": "markdown",
   "metadata": {},
   "source": [
    "as for now we have just imported the data next we will filter out symptoms and make the data imported overall cleaner and train a Neural Network using the tensorflow library"
   ]
  },
  {
   "cell_type": "code",
   "execution_count": 3,
   "metadata": {},
   "outputs": [
    {
     "data": {
      "text/plain": [
       "(600, 32)"
      ]
     },
     "execution_count": 3,
     "metadata": {},
     "output_type": "execute_result"
    }
   ],
   "source": [
    "#converting the data we imported from our csv to a numpy array\n",
    "\n",
    "diseases = diseases.to_numpy()\n",
    "\n",
    "\n",
    "\n",
    "diseases.shape\n",
    "\n",
    "\n"
   ]
  },
  {
   "cell_type": "code",
   "execution_count": 4,
   "metadata": {},
   "outputs": [],
   "source": [
    "#now we will be splitting our data into training and testing data\n",
    "\n",
    "\n",
    "diseases_train = diseases[0:300]\n",
    "diseases_test = diseases[300:]\n",
    "\n",
    "\n"
   ]
  },
  {
   "cell_type": "code",
   "execution_count": 5,
   "metadata": {},
   "outputs": [
    {
     "name": "stdout",
     "output_type": "stream",
     "text": [
      "diseases training data\n",
      "[[0 9046 'Male' ... 2.3 0.0 1.0]\n",
      " [1 51676 'Female' ... 3.5 0.0 2.0]\n",
      " [2 31112 'Male' ... 1.4 0.0 2.0]\n",
      " ...\n",
      " [297 67318 'Male' ... 0.2 0.0 3.0]\n",
      " [298 28526 'Male' ... 1.2 0.0 3.0]\n",
      " [299 8831 'Female' ... 3.4 2.0 3.0]]\n",
      "diseases testing data\n",
      "[[300 65199 'Female' ... 1.2 1.0 3.0]\n",
      " [301 43454 'Female' ... 0.0 1.0 2.0]\n",
      " [302 7282 'Male' ... 1.043046358 0.718543046 2.314569536]\n",
      " ...\n",
      " [597 40639 'Female' ... 1.043046358 0.718543046 2.314569536]\n",
      " [598 31090 'Male' ... 1.043046358 0.718543046 2.314569536]\n",
      " [599 64174 'Female' ... 1.043046358 0.718543046 2.314569536]]\n",
      "heart training data\n"
     ]
    }
   ],
   "source": [
    "# now we will print the training and the testing data\n",
    "\n",
    "\n",
    "print(\"diseases training data\")\n",
    "print(diseases_train)\n",
    "print(\"diseases testing data\")\n",
    "print(diseases_test)\n",
    "print(\"heart training data\")\n"
   ]
  },
  {
   "cell_type": "code",
   "execution_count": 6,
   "metadata": {},
   "outputs": [],
   "source": [
    "#seperating true labels from the data\n",
    "\n",
    "\n",
    "\n",
    "diseases_train_labels = diseases_train[:,-1]\n",
    "diseases_test_labels = diseases_test[:,0:-1]\n",
    "\n"
   ]
  },
  {
   "cell_type": "code",
   "execution_count": 7,
   "metadata": {},
   "outputs": [],
   "source": [
    "\n",
    "\n",
    "diseases_train_features = diseases_train[:,0:-1]\n",
    "diseases_test_features = diseases_test[:,0:-1]\n",
    "\n"
   ]
  },
  {
   "cell_type": "code",
   "execution_count": 8,
   "metadata": {},
   "outputs": [
    {
     "name": "stdout",
     "output_type": "stream",
     "text": [
      "diseases training labels\n",
      "(300,)\n",
      "diseases testing labels\n",
      "(300, 31)\n"
     ]
    }
   ],
   "source": [
    "#printing thhe true labels\n",
    "\n",
    "print(\"diseases training labels\")\n",
    "print(diseases_train_labels.shape)\n",
    "print(\"diseases testing labels\")\n",
    "print(diseases_test_labels.shape)\n",
    "\n",
    "\n"
   ]
  },
  {
   "cell_type": "code",
   "execution_count": 9,
   "metadata": {},
   "outputs": [],
   "source": [
    "import tensorflow as tf\n",
    "\n",
    "model = tf.keras.models.Sequential()\n",
    "model.add(tf.keras.layers.Input(shape=(8,)))\n",
    "model.add(tf.keras.layers.Dense(8, activation='relu'))\n",
    "model.add(tf.keras.layers.Dropout(0.2))\n",
    "model.add(tf.keras.layers.Dense(8, activation='relu'))\n",
    "model.add(tf.keras.layers.Dropout(0.2))\n",
    "model.add(tf.keras.layers.Dense(1, activation='sigmoid'))\n",
    "model.compile(optimizer='sgd',loss='binary_crossentropy',metrics=['accuracy'])\n",
    "\n",
    "\n",
    "#fitting the model for diseases dataset\n",
    "model.fit(diseases_train_features, diseases_train_labels, epochs=100,validation_data=(diseases_test_features, diseases_test_labels))\n",
    "\n",
    "\n"
   ]
  }
 ],
 "metadata": {
  "interpreter": {
   "hash": "b0fa6594d8f4cbf19f97940f81e996739fb7646882a419484c72d19e05852a7e"
  },
  "kernelspec": {
   "display_name": "Python 3.9.6 64-bit",
   "language": "python",
   "name": "python3"
  },
  "language_info": {
   "codemirror_mode": {
    "name": "ipython",
    "version": 3
   },
   "file_extension": ".py",
   "mimetype": "text/x-python",
   "name": "python",
   "nbconvert_exporter": "python",
   "pygments_lexer": "ipython3",
   "version": "3.9.7"
  },
  "orig_nbformat": 4
 },
 "nbformat": 4,
 "nbformat_minor": 2
}
