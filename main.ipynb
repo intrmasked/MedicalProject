{
 "cells": [
  {
   "cell_type": "code",
   "execution_count": 24,
   "metadata": {},
   "outputs": [],
   "source": [
    "\n",
    "\n",
    "from joblib import dump, load\n",
    "import pandas as pd\n",
    "from sklearn.model_selection import train_test_split, cross_val_score\n",
    "from sklearn.metrics import accuracy_score, confusion_matrix, classification_report\n",
    "# Naive Bayes Approach\n",
    "from sklearn.naive_bayes import MultinomialNB\n",
    "# Trees Approach\n",
    "from sklearn.tree import DecisionTreeClassifier\n",
    "# Ensemble Approach\n",
    "from sklearn.ensemble import RandomForestClassifier, GradientBoostingClassifier\n",
    "import seaborn as sn\n",
    "\n",
    "\n",
    "diseases_training  = pd.read_csv('./dataset/training_data.csv')\n",
    "diseases_testing = pd.read_csv('./dataset/test_data.csv')\n",
    "\n",
    "\n"
   ]
  },
  {
   "cell_type": "markdown",
   "metadata": {},
   "source": [
    "The cells underneath are used to check if the imports are proper and we use .describe to check the data and how it looks in rows and coloumn format"
   ]
  },
  {
   "cell_type": "code",
   "execution_count": 25,
   "metadata": {},
   "outputs": [],
   "source": [
    "cols =  diseases_training.columns\n",
    "cols = cols[:-2]\n",
    "train_features = diseases_training[cols]\n",
    "train_labels = diseases_training['prognosis']\n",
    "\n",
    "        # Check for data sanity\n",
    "assert (len(train_features.iloc[0]) == 132)\n",
    "assert (len(train_labels) == train_features.shape[0])\n",
    "\n"
   ]
  },
  {
   "cell_type": "code",
   "execution_count": 26,
   "metadata": {},
   "outputs": [],
   "source": [
    "cols_test = diseases_testing.columns\n",
    "cols_test = cols_test[:-1]\n",
    "test_features = diseases_testing[cols_test]\n",
    "test_labels = diseases_testing['prognosis']\n",
    "\n",
    "# Check for data sanity\n",
    "assert (len(test_features.iloc[0]) == 132)\n",
    "assert (len(test_labels) == test_features.shape[0])"
   ]
  },
  {
   "cell_type": "code",
   "execution_count": 27,
   "metadata": {},
   "outputs": [],
   "source": [
    "def _train_val_split():\n",
    "    X_train, X_val, y_train, y_val = train_test_split(train_features, train_labels,\n",
    "                                                          test_size=0.33,\n",
    "                                                          random_state=101)\n",
    "\n",
    "    return X_train, y_train, X_val, y_val\n",
    "\n"
   ]
  },
  {
   "cell_type": "code",
   "execution_count": 30,
   "metadata": {},
   "outputs": [
    {
     "data": {
      "text/plain": [
       "['./exports/RandomForest.joblib']"
      ]
     },
     "execution_count": 30,
     "metadata": {},
     "output_type": "execute_result"
    }
   ],
   "source": [
    "X_train, y_train, X_val, y_val = _train_val_split()\n",
    "classifier = RandomForestClassifier(10)\n",
    "# Training the Model\n",
    "classifier = classifier.fit(X_train, y_train)\n",
    "# Trained Model Evaluation on Validation Dataset\n",
    "confidence = classifier.score(X_val, y_val)\n",
    "# Validation Data Prediction\n",
    "y_pred = classifier.predict(X_val)\n",
    "# Model Validation Accuracy\n",
    "accuracy = accuracy_score(y_val, y_pred)\n",
    "# Model Confusion Matrix\n",
    "conf_mat = confusion_matrix(y_val, y_pred)\n",
    "# Model Classification Report\n",
    "clf_report = classification_report(y_val, y_pred)\n",
    "# Model Cross Validation Score\n",
    "score = cross_val_score(classifier, X_val, y_val, cv=3)\n",
    "\n",
    "dump(classifier, str(\"./exports/RandomForest.joblib\"))\n"
   ]
  }
 ],
 "metadata": {
  "interpreter": {
   "hash": "b0fa6594d8f4cbf19f97940f81e996739fb7646882a419484c72d19e05852a7e"
  },
  "kernelspec": {
   "display_name": "Python 3.9.6 64-bit",
   "language": "python",
   "name": "python3"
  },
  "language_info": {
   "codemirror_mode": {
    "name": "ipython",
    "version": 3
   },
   "file_extension": ".py",
   "mimetype": "text/x-python",
   "name": "python",
   "nbconvert_exporter": "python",
   "pygments_lexer": "ipython3",
   "version": "3.9.7"
  },
  "orig_nbformat": 4
 },
 "nbformat": 4,
 "nbformat_minor": 2
}
